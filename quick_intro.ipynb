{
 "cells": [
  {
   "cell_type": "markdown",
   "metadata": {},
   "source": [
    "# 1. Basic Datatypes\n",
    "\n",
    "We need variables to store data. Variables are like boxes in which we can store data. We can give a name to the box and use that name to access the data later. We can also change the data in the box."
   ]
  },
  {
   "cell_type": "code",
   "execution_count": 2,
   "metadata": {},
   "outputs": [
    {
     "name": "stdout",
     "output_type": "stream",
     "text": [
      "120\n"
     ]
    }
   ],
   "source": [
    "x = 10\n",
    "y = x + 2\n",
    "\n",
    "print(x*y)"
   ]
  },
  {
   "cell_type": "markdown",
   "metadata": {},
   "source": [
    "The most funamental types are:\n",
    "- Integer\n",
    "- Float\n",
    "- String\n",
    "- Boolean\n",
    "\n",
    "Python as `dynamic types`, we don't need to declare the type of the variable. Python will automatically figure out the type of the variable based on the value assigned to it."
   ]
  },
  {
   "cell_type": "code",
   "execution_count": 3,
   "metadata": {},
   "outputs": [],
   "source": [
    "i = 1\n",
    "f = 1.0\n",
    "s = 'Hello World'\n",
    "b = True"
   ]
  },
  {
   "cell_type": "markdown",
   "metadata": {},
   "source": [
    "You can always find the type of a variable with the `type()` function."
   ]
  },
  {
   "cell_type": "markdown",
   "metadata": {},
   "source": [
    "Notice computations can change types:"
   ]
  },
  {
   "cell_type": "code",
   "execution_count": 4,
   "metadata": {},
   "outputs": [
    {
     "name": "stdout",
     "output_type": "stream",
     "text": [
      "<class 'float'>\n"
     ]
    }
   ],
   "source": [
    "print( type(i*f) )"
   ]
  },
  {
   "cell_type": "markdown",
   "metadata": {},
   "source": [
    "### Basic math operations\n",
    "\n",
    "- `+` addition\n",
    "- `-` subtraction\n",
    "- `*` multiplication\n",
    "- `/` division\n",
    "- `**` power\n",
    "\n",
    "Further functions are available in the `math` module."
   ]
  },
  {
   "cell_type": "code",
   "execution_count": 6,
   "metadata": {},
   "outputs": [
    {
     "data": {
      "text/plain": [
       "33.0"
      ]
     },
     "execution_count": 6,
     "metadata": {},
     "output_type": "execute_result"
    }
   ],
   "source": [
    "from math import sin, cos, exp\n",
    "\n",
    "t = 0.0\n",
    "sin(2*t) + exp(t) + 2**5"
   ]
  },
  {
   "cell_type": "markdown",
   "metadata": {},
   "source": [
    "### Basic string operations\n",
    "\n",
    "- `+` concatenation\n",
    "- `*` repetition\n",
    "- `[]` indexing\n",
    "- `[:]` slicing\n",
    "- `len()` length\n",
    "- `in` membership\n",
    "- `.replace` replace\n",
    "- `.split` split\n",
    "- `.join` join\n",
    "- `f\"{}\"` format"
   ]
  },
  {
   "cell_type": "code",
   "execution_count": 12,
   "metadata": {},
   "outputs": [
    {
     "name": "stdout",
     "output_type": "stream",
     "text": [
      "Hello Mr. X\n"
     ]
    }
   ],
   "source": [
    "hi = \"Hello\"\n",
    "who = \"Mr. X\"\n",
    "s = hi + \" \" + who\n",
    "print(s)"
   ]
  },
  {
   "cell_type": "markdown",
   "metadata": {},
   "source": [
    "Some operations use the `.` syntax. This is called `object oriented programming`, but we will not delve into that here."
   ]
  },
  {
   "cell_type": "code",
   "execution_count": 29,
   "metadata": {},
   "outputs": [
    {
     "name": "stdout",
     "output_type": "stream",
     "text": [
      "['i', 'dont', 'like', 'spaces', 'and', 'capitalisation']\n",
      "Replaced:  i dont like spaces and capitalisation\n",
      "Capitalized:  I Dont Like Spaces And Capitalisation\n"
     ]
    }
   ],
   "source": [
    "s = \"i_dont_like_spaces_and_capitalisation\"\n",
    "words = s.split(\"_\")\n",
    "print(words)\n",
    "\n",
    "t = s.replace(\"_\",\" \")\n",
    "print(\"Replaced: \", t)\n",
    "\n",
    "S = [word.capitalize() for word in words]\n",
    "T = \" \".join(S)\n",
    "\n",
    "print(\"Capitalized: \", T)"
   ]
  },
  {
   "cell_type": "code",
   "execution_count": 30,
   "metadata": {},
   "outputs": [
    {
     "name": "stdout",
     "output_type": "stream",
     "text": [
      "\n",
      "Dear everyone,\n",
      "\n",
      "I would like to remind you to bring me enough chocolat now and then :)\n",
      "\n",
      "Yours,\n",
      "Nanama\n",
      "\n"
     ]
    }
   ],
   "source": [
    "who = \"Nanama\"\n",
    "to = \"everyone\"\n",
    "\n",
    "letter = f\"\"\"\n",
    "Dear {to},\n",
    "\n",
    "I would like to remind you to bring me enough chocolate now and then :)\n",
    "\n",
    "Yours,\n",
    "{who}\n",
    "\"\"\"\n",
    "\n",
    "print(letter)"
   ]
  },
  {
   "cell_type": "markdown",
   "metadata": {},
   "source": [
    "> Quiz: How to search if `chocolate` appears in the letter?"
   ]
  },
  {
   "cell_type": "markdown",
   "metadata": {},
   "source": [
    "## Lists\n",
    "\n",
    "We can combine multiple values into a list. Lists are defined by square brackets `[]` and values are separated by commas."
   ]
  },
  {
   "cell_type": "code",
   "execution_count": 31,
   "metadata": {},
   "outputs": [],
   "source": [
    "x = [1, 2, 3.0, \"10\", None]"
   ]
  },
  {
   "cell_type": "code",
   "execution_count": 32,
   "metadata": {},
   "outputs": [
    {
     "data": {
      "text/plain": [
       "list"
      ]
     },
     "execution_count": 32,
     "metadata": {},
     "output_type": "execute_result"
    }
   ],
   "source": [
    "type(x)"
   ]
  },
  {
   "cell_type": "markdown",
   "metadata": {},
   "source": [
    "Basic operations are:\n",
    "- `+` concatenation\n",
    "- `*` repetition\n",
    "- `[]` indexing\n",
    "- `[:]` slicing\n",
    "- `len()` length\n",
    "- `sum()` sum\n",
    "- `in` membership\n",
    "- `.append` append\n",
    "- `.insert` insert\n",
    "- `.remove` remove"
   ]
  },
  {
   "cell_type": "code",
   "execution_count": 59,
   "metadata": {},
   "outputs": [
    {
     "name": "stdout",
     "output_type": "stream",
     "text": [
      "Element: x[0] = 1, x[1] = 2, ...\n",
      "Full list: \t\t\t[1, 2, 3, 4, 5, 6, 7], len(x) = 7\n",
      "Full list (after addition): \t[11, 2, 3, 4, 5, 6, 7]\n",
      "Full list (after append): \t[11, 2, 3, 4, 5, 6, 7, 100]\n",
      "Start: [11, 2, 3], End: [7, 100], Even: [2, 4, 6, 100]\n"
     ]
    }
   ],
   "source": [
    "x = [1,2,3,4,5,6,7]\n",
    "print(f\"Element: x[0] = {x[0]}, x[1] = {x[1]}, ...\")\n",
    "\n",
    "print(f\"Full list: \\t\\t\\t{x}, len(x) = {len(x)}\")\n",
    "\n",
    "x[0] += 10\n",
    "print(f\"Full list (after addition): \\t{x}\")\n",
    "\n",
    "x.append(100)\n",
    "print(f\"Full list (after append): \\t{x}\")\n",
    "\n",
    "first_three = x[0:3]\n",
    "last_two    = x[-2:]\n",
    "even        = x[1::2]   # start:end:step\n",
    "\n",
    "print(f\"Start: {first_three}, End: {last_two}, Even: {even}\")"
   ]
  },
  {
   "cell_type": "markdown",
   "metadata": {},
   "source": [
    "---\n",
    "\n",
    "# 2. Control Flow\n",
    "\n",
    "The fundamental building blocks of all programs are:\n",
    "- `if` statements\n",
    "- `for` loops\n",
    "- `while` loops\n",
    "\n",
    "Control blocks are defined by indentation. The convention is to use 4 spaces."
   ]
  },
  {
   "cell_type": "markdown",
   "metadata": {},
   "source": [
    "## `If` statements"
   ]
  },
  {
   "cell_type": "code",
   "execution_count": 64,
   "metadata": {},
   "outputs": [
    {
     "name": "stdout",
     "output_type": "stream",
     "text": [
      "Hello\n"
     ]
    }
   ],
   "source": [
    "name = input(\"Enter your last name\")\n",
    "\n",
    "if \"Anupindi\" in name:\n",
    "    print(\"హలో\")\n",
    "elif \"Plunder\" in name:\n",
    "    print(\"Hallo\")\n",
    "else:\n",
    "    print(\"Hello\")"
   ]
  },
  {
   "cell_type": "markdown",
   "metadata": {},
   "source": [
    "One can negate boolean expressions with `not`, combine them with `and` and `or`."
   ]
  },
  {
   "cell_type": "code",
   "execution_count": 67,
   "metadata": {},
   "outputs": [
    {
     "name": "stdout",
     "output_type": "stream",
     "text": [
      "It has 'A' but neither X nor Y.\n"
     ]
    }
   ],
   "source": [
    "x = \"ABC\"\n",
    "\n",
    "if \"A\" in x and not (\"X\" in x or \"Y\" in x):\n",
    "    print(\"It has 'A' but neither X nor Y.\")"
   ]
  },
  {
   "cell_type": "markdown",
   "metadata": {},
   "source": [
    "## `for` loops\n",
    "\n",
    "`for` loops are used to iterate over a list of values."
   ]
  },
  {
   "cell_type": "code",
   "execution_count": 68,
   "metadata": {},
   "outputs": [
    {
     "name": "stdout",
     "output_type": "stream",
     "text": [
      "[1, 4, 9, 16, 25, 36, 49]\n"
     ]
    }
   ],
   "source": [
    "x = []\n",
    "\n",
    "for i in [1,2,3,4,5,6,7]:\n",
    "    x.append(i**2)\n",
    "\n",
    "print(x)"
   ]
  },
  {
   "cell_type": "markdown",
   "metadata": {},
   "source": [
    "To iterate over a range of indices, use `range(start = 0, stop, step = 1)` for numbers `start, start+step, start+2*step, ..., stop-1`."
   ]
  },
  {
   "cell_type": "code",
   "execution_count": 70,
   "metadata": {},
   "outputs": [
    {
     "name": "stdout",
     "output_type": "stream",
     "text": [
      "[0, 1, 4, 9, 16, 25, 36]\n"
     ]
    }
   ],
   "source": [
    "x = []\n",
    "for i in range(7):\n",
    "    x.append(i**2)\n",
    "    \n",
    "print(x)"
   ]
  },
  {
   "cell_type": "markdown",
   "metadata": {},
   "source": [
    "### List comprehensions\n",
    "\n",
    "List comprehensions are a compact way to create lists."
   ]
  },
  {
   "cell_type": "code",
   "execution_count": 72,
   "metadata": {},
   "outputs": [
    {
     "data": {
      "text/plain": [
       "[1, 4, 9, 16, 25, 36, 49, 64, 81]"
      ]
     },
     "execution_count": 72,
     "metadata": {},
     "output_type": "execute_result"
    }
   ],
   "source": [
    "[i**2 for i in range(1,10)]"
   ]
  },
  {
   "cell_type": "markdown",
   "metadata": {},
   "source": [
    "#### Exercise #1\n",
    "\n",
    "`Part I`:\n",
    "\n",
    "- Use a list comprehension to create a list of the numbers `1/1, 1/2, 1/3, ..., 1/n`.\n",
    "- Compute the sum of these numbers.\n",
    "- Increase `n` until the sum is larger than `10`."
   ]
  },
  {
   "cell_type": "code",
   "execution_count": 83,
   "metadata": {},
   "outputs": [
    {
     "data": {
      "text/plain": [
       "10.48072821722932"
      ]
     },
     "execution_count": 83,
     "metadata": {},
     "output_type": "execute_result"
    }
   ],
   "source": [
    "# add your code here:\n",
    "n = 20000\n",
    "\n",
    "sum(1/i for i in range(1,n+1))"
   ]
  },
  {
   "cell_type": "markdown",
   "metadata": {},
   "source": [
    "`Part II`:\n",
    "\n",
    "- Write a program to find the smallest `n` such that `1/1 + 1/2 + 1/3 + ... + 1/n` is larger than `10`."
   ]
  },
  {
   "cell_type": "code",
   "execution_count": null,
   "metadata": {},
   "outputs": [],
   "source": []
  },
  {
   "cell_type": "markdown",
   "metadata": {},
   "source": [
    "# Interlude: Plotting\n",
    "\n",
    "To visualize data, we can use the `matplotlib` library."
   ]
  },
  {
   "cell_type": "code",
   "execution_count": 87,
   "metadata": {},
   "outputs": [
    {
     "data": {
      "text/plain": [
       "<matplotlib.legend.Legend at 0x25a84f08990>"
      ]
     },
     "execution_count": 87,
     "metadata": {},
     "output_type": "execute_result"
    },
    {
     "data": {
      "image/png": "[encoded data removed]",
      "text/plain": [
       "<Figure size 640x480 with 1 Axes>"
      ]
     },
     "metadata": {},
     "output_type": "display_data"
    }
   ],
   "source": [
    "import matplotlib.pyplot as plt \n",
    "\n",
    "n = 40\n",
    "x = [i    for i in range(n)]\n",
    "y = [i**2 for i in range(n)]\n",
    "\n",
    "plt.plot(x, y, \".\", label = \"squares\")\n",
    "plt.legend()"
   ]
  },
  {
   "cell_type": "markdown",
   "metadata": {},
   "source": [
    "## Exercise #2\n",
    "\n",
    "- Plot the function `f(x) = x^2` for `x` in the range `[-10, 10]`."
   ]
  },
  {
   "cell_type": "code",
   "execution_count": 98,
   "metadata": {},
   "outputs": [],
   "source": [
    "# your code goes here\n"
   ]
  },
  {
   "cell_type": "markdown",
   "metadata": {},
   "source": []
  },
  {
   "cell_type": "markdown",
   "metadata": {},
   "source": [
    "---\n",
    "\n",
    "# 3. Functions\n",
    "\n",
    "To avoid repeating code, we can define functions. \n",
    "\n",
    "Functions have inputs, called `arguments` and outputs, called `return values`."
   ]
  },
  {
   "cell_type": "code",
   "execution_count": 89,
   "metadata": {},
   "outputs": [],
   "source": [
    "def is_even(x):\n",
    "    if x % 2 == 0:\n",
    "        return True \n",
    "    else:\n",
    "        return False"
   ]
  },
  {
   "cell_type": "markdown",
   "metadata": {},
   "source": [
    "To use functions, we need to `call` them with the syntax `function_name(arguments)`."
   ]
  },
  {
   "cell_type": "code",
   "execution_count": 90,
   "metadata": {},
   "outputs": [
    {
     "data": {
      "text/plain": [
       "True"
      ]
     },
     "execution_count": 90,
     "metadata": {},
     "output_type": "execute_result"
    }
   ],
   "source": [
    "is_even(12012)"
   ]
  },
  {
   "cell_type": "markdown",
   "metadata": {},
   "source": [
    "#### Bonus: Lambda functions\n",
    "\n",
    "One can also define a function without giving it a name. These are called `lambda` functions:"
   ]
  },
  {
   "cell_type": "code",
   "execution_count": 97,
   "metadata": {},
   "outputs": [],
   "source": [
    "l = [lambda x: x^2, lambda x: x^3, lambda x: x^4]\n",
    "\n",
    "i = 10\n",
    "x = [fnc(i) for fnc in l]"
   ]
  },
  {
   "cell_type": "markdown",
   "metadata": {},
   "source": [
    "## Exercise #3\n",
    "\n",
    "- Given a list of numbers, write a function to find how many of them are even."
   ]
  },
  {
   "cell_type": "code",
   "execution_count": 95,
   "metadata": {},
   "outputs": [],
   "source": [
    "# define your solution here:\n",
    "\n",
    "\n",
    "\n",
    "# test case:\n",
    "x = [1,20,-2,7,-7,0]\n",
    "assert sum_even(x) == 3"
   ]
  },
  {
   "cell_type": "markdown",
   "metadata": {},
   "source": []
  }
 ],
 "metadata": {
  "kernelspec": {
   "display_name": "base",
   "language": "python",
   "name": "python3"
  },
  "language_info": {
   "codemirror_mode": {
    "name": "ipython",
    "version": 3
   },
   "file_extension": ".py",
   "mimetype": "text/x-python",
   "name": "python",
   "nbconvert_exporter": "python",
   "pygments_lexer": "ipython3",
   "version": "3.11.5"
  }
 },
 "nbformat": 4,
 "nbformat_minor": 2
}
